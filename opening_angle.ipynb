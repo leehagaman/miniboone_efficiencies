{
 "cells": [
  {
   "cell_type": "code",
   "execution_count": null,
   "metadata": {},
   "outputs": [],
   "source": [
    "import numpy as np\n",
    "import matplotlib.pyplot as plt\n",
    "import uproot\n",
    "\n",
    "from tqdm.notebook import tqdm\n"
   ]
  },
  {
   "cell_type": "markdown",
   "metadata": {},
   "source": [
    "# Loading File"
   ]
  },
  {
   "cell_type": "code",
   "execution_count": null,
   "metadata": {},
   "outputs": [],
   "source": [
    "f = uproot.open(\"data_files/output_osc_mc_detail_1.root\")\n"
   ]
  },
  {
   "cell_type": "code",
   "execution_count": null,
   "metadata": {},
   "outputs": [],
   "source": [
    "# from data_files/CombinedFunctions_from_Fortran/CombinedTypes.h\n",
    "particle_types = {\n",
    "    1: \"gamma\",\n",
    "    2: \"positron\",\n",
    "    3: \"electron\",\n",
    "    4: \"neutrino\",\n",
    "    5: \"mu+\",\n",
    "    6: \"mu-\",\n",
    "    7: \"pi0\",\n",
    "    8: \"pi+\",\n",
    "    9: \"pi-\",\n",
    "    10: \"K0L\",\n",
    "    11: \"K+\",\n",
    "    12: \"K-\",\n",
    "    13: \"neutron\",\n",
    "    14: \"proton\",\n",
    "    15: \"anti-proton\",\n",
    "    16: \"K0S\",\n",
    "    17: \"eta\",\n",
    "    18: \"lambda\",\n",
    "    19: \"sigma+\",\n",
    "    20: \"sigma0\",\n",
    "    21: \"sigma-\",\n",
    "    22: \"xi0\",\n",
    "    23: \"xi-\",\n",
    "    24: \"omega-\",\n",
    "    25: \"anti-neutron\",\n",
    "    26: \"anti-lambda\",\n",
    "    27: \"anti-sigma-\",\n",
    "    28: \"anti-sigma0\",\n",
    "    29: \"anti-sigma+\",\n",
    "    30: \"anti-xi0\",\n",
    "    31: \"anti-xi+\",\n",
    "    32: \"anti-omega+\",\n",
    "    45: \"deuteron\",\n",
    "    46: \"triton\",\n",
    "    47: \"alpha\",\n",
    "    48: \"geantino\",\n",
    "    49: \"He3\",\n",
    "    50: \"Cerenkov\"\n",
    "}\n"
   ]
  },
  {
   "cell_type": "code",
   "execution_count": null,
   "metadata": {},
   "outputs": [],
   "source": [
    "df = f[\"MiniBooNE_CCQE\"].arrays([\"EventNumber\", \"Weight\", \"PassOsc\", \"RecoEnuQE\", \"Energy\", \"CosTheta\", \"TrueEnergy\", \"NuType\", \"NFSP\", \"FSPType\", \"MomX\", \"MomY\", \"MomZ\", \"MomT\"], library=\"pd\")\n",
    "\n",
    "# from data_files/SomeMiniBooNEDetails_on_files_v2.pdf\n",
    "nu_types = {\n",
    "    1: \"numu\",\n",
    "    2: \"numubar\",\n",
    "    3: \"nue\",\n",
    "    4: \"nuebar\"\n",
    "}\n",
    "df[\"nu_type\"] = df[\"NuType\"].apply(lambda x: nu_types[x])\n",
    "df.drop(columns=[\"NuType\"], inplace=True)\n",
    "\n",
    "df"
   ]
  },
  {
   "cell_type": "markdown",
   "metadata": {},
   "source": [
    "# 2 shower 0 track truth cut"
   ]
  },
  {
   "cell_type": "code",
   "execution_count": null,
   "metadata": {},
   "outputs": [],
   "source": [
    "particle_codes = df[\"FSPType\"].to_numpy()\n",
    "particle_MomXs = df[\"MomX\"].to_numpy()\n",
    "particle_MomYs = df[\"MomY\"].to_numpy()\n",
    "particle_MomZs = df[\"MomZ\"].to_numpy()\n",
    "particle_MomTs = df[\"MomT\"].to_numpy()\n",
    "\n",
    "shower_threshold = 100\n",
    "track_threshold = 1000\n",
    "\n",
    "num_true_HE_showers = []\n",
    "num_true_HE_tracks = []\n",
    "for i in tqdm(range(len(particle_codes))):\n",
    "    curr_num_showers = 0\n",
    "    curr_num_HE_showers = 0\n",
    "    curr_num_HE_tracks = 0\n",
    "    curr_particle_codes = particle_codes[i]\n",
    "    curr_MomTs = particle_MomTs[i]\n",
    "    for j in range(len(curr_particle_codes)):\n",
    "        curr_particle_type = particle_types[curr_particle_codes[j]]\n",
    "        curr_particle_energy = curr_MomTs[j] * 1000\n",
    "\n",
    "        if (curr_particle_type == \"gamma\" or curr_particle_type == \"electron\" or curr_particle_type == \"positron\") and curr_particle_energy > shower_threshold:\n",
    "            curr_num_HE_showers += 1\n",
    "\n",
    "        if (curr_particle_type == \"proton\" or curr_particle_type == \"mu+\" or curr_particle_type == \"mu-\" or curr_particle_type == \"pi+\" or curr_particle_type == \"pi-\") and curr_particle_energy > track_threshold:\n",
    "            curr_num_HE_tracks += 1\n",
    "\n",
    "    num_true_HE_showers.append(curr_num_HE_showers)\n",
    "    num_true_HE_tracks.append(curr_num_HE_tracks)\n",
    "\n",
    "df[\"num_true_HE_showers\"] = num_true_HE_showers\n",
    "df[\"num_true_HE_tracks\"] = num_true_HE_tracks\n"
   ]
  },
  {
   "cell_type": "code",
   "execution_count": null,
   "metadata": {},
   "outputs": [],
   "source": [
    "df"
   ]
  },
  {
   "cell_type": "code",
   "execution_count": null,
   "metadata": {},
   "outputs": [],
   "source": [
    "df.query(\"PassOsc==True\")"
   ]
  },
  {
   "cell_type": "markdown",
   "metadata": {},
   "source": [
    "# True Quantities for two showers"
   ]
  },
  {
   "cell_type": "code",
   "execution_count": null,
   "metadata": {},
   "outputs": [],
   "source": [
    "two_HE_shower_0_HE_track_df = df.query(\"num_true_HE_showers == 2 and num_true_HE_tracks == 0\")\n",
    "\n",
    "particle_codes = two_HE_shower_0_HE_track_df[\"FSPType\"].to_numpy()\n",
    "particle_MomXs = two_HE_shower_0_HE_track_df[\"MomX\"].to_numpy()\n",
    "particle_MomYs = two_HE_shower_0_HE_track_df[\"MomY\"].to_numpy()\n",
    "particle_MomZs = two_HE_shower_0_HE_track_df[\"MomZ\"].to_numpy()\n",
    "particle_MomTs = two_HE_shower_0_HE_track_df[\"MomT\"].to_numpy()\n",
    "\n",
    "leading_energies = []\n",
    "subleading_energies = []\n",
    "opening_angles = []\n",
    "total_momentum_beam_angles = []\n",
    "\n",
    "for i in tqdm(range(len(particle_codes))):\n",
    "\n",
    "    curr_leading_energy = -np.inf\n",
    "    curr_subleading_energy = -np.inf\n",
    "    curr_leading_momentum = np.array([np.nan, np.nan, np.nan])\n",
    "    curr_subleading_momentum = np.array([np.nan, np.nan, np.nan])\n",
    "\n",
    "    curr_particle_codes = particle_codes[i]\n",
    "    curr_MomXs = particle_MomXs[i]\n",
    "    curr_MomYs = particle_MomYs[i]\n",
    "    curr_MomZs = particle_MomZs[i]\n",
    "    curr_MomTs = particle_MomTs[i]\n",
    "\n",
    "    for j in range(len(curr_particle_codes)):\n",
    "        curr_particle_type = particle_types[curr_particle_codes[j]]\n",
    "        curr_particle_energy = curr_MomTs[j] * 1000\n",
    "        curr_particle_momentum = np.array([curr_MomXs[j], curr_MomYs[j], curr_MomZs[j]])\n",
    "        if curr_particle_type == \"gamma\" or curr_particle_type == \"electron\" or curr_particle_type == \"positron\" and curr_particle_energy > 20:\n",
    "            if curr_particle_energy > curr_leading_energy: # new highest energy shower\n",
    "                curr_subleading_energy = curr_leading_energy\n",
    "                curr_subleading_momentum = curr_leading_momentum\n",
    "                curr_leading_energy = curr_particle_energy\n",
    "                curr_leading_momentum = curr_particle_momentum\n",
    "            elif curr_particle_energy > curr_subleading_energy: # new subleading shower\n",
    "                curr_subleading_energy = curr_particle_energy\n",
    "                curr_subleading_momentum = curr_particle_momentum\n",
    "        \n",
    "    curr_total_momentum = curr_leading_momentum + curr_subleading_momentum\n",
    "    curr_total_momentum_magnitude = np.linalg.norm(curr_total_momentum)\n",
    "    curr_total_momentum_beam_angle = np.arccos(curr_total_momentum[2] / curr_total_momentum_magnitude) * 180 / np.pi\n",
    "\n",
    "    curr_opening_angle = np.arccos(np.dot(curr_leading_momentum, curr_subleading_momentum) / (np.linalg.norm(curr_leading_momentum) * np.linalg.norm(curr_subleading_momentum))) * 180 / np.pi\n",
    "\n",
    "    leading_energies.append(curr_leading_energy)\n",
    "    subleading_energies.append(curr_subleading_energy)\n",
    "    opening_angles.append(curr_opening_angle)\n",
    "    total_momentum_beam_angles.append(curr_total_momentum_beam_angle)\n",
    "\n",
    "two_HE_shower_0_HE_track_df[\"leading_energy\"] = leading_energies\n",
    "two_HE_shower_0_HE_track_df[\"subleading_energy\"] = subleading_energies\n",
    "two_HE_shower_0_HE_track_df[\"opening_angle\"] = opening_angles\n",
    "two_HE_shower_0_HE_track_df[\"total_momentum_beam_angle\"] = total_momentum_beam_angles\n",
    "\n",
    "two_HE_shower_0_HE_track_df\n"
   ]
  },
  {
   "cell_type": "code",
   "execution_count": null,
   "metadata": {},
   "outputs": [],
   "source": [
    "passing_two_HE_shower_0_HE_track_df = two_HE_shower_0_HE_track_df.query(\"PassOsc == True\")\n",
    "passing_two_HE_shower_0_HE_track_df"
   ]
  },
  {
   "cell_type": "markdown",
   "metadata": {},
   "source": [
    "# Efficiencies"
   ]
  },
  {
   "cell_type": "code",
   "execution_count": null,
   "metadata": {},
   "outputs": [],
   "source": [
    "plt.rcParams.update({'font.size': 16})\n",
    "\n",
    "opening_angle_bins = np.linspace(0, 180, 18+1)\n",
    "#opening_angle_bins = np.linspace(0, 90, 18+1)\n",
    "#opening_angle_bins = np.linspace(0, 45, 16)\n",
    "opening_angle_bin_centers = [(opening_angle_bins[i] + opening_angle_bins[i+1]) / 2 for i in range(len(opening_angle_bins) - 1)]\n",
    "\n",
    "total_counts = np.histogram(two_HE_shower_0_HE_track_df[\"opening_angle\"], weights=two_HE_shower_0_HE_track_df[\"Weight\"], bins=opening_angle_bins)[0]\n",
    "passing_counts = np.histogram(passing_two_HE_shower_0_HE_track_df[\"opening_angle\"], weights=passing_two_HE_shower_0_HE_track_df[\"Weight\"], bins=opening_angle_bins)[0]\n",
    "\n",
    "effs = passing_counts / total_counts\n",
    "\n",
    "eff_errs = np.sqrt(effs * (1 - effs) / total_counts)\n",
    "\n",
    "plt.figure(figsize=(10, 7))\n",
    "plt.hist(two_HE_shower_0_HE_track_df[\"opening_angle\"], weights=two_HE_shower_0_HE_track_df[\"Weight\"], bins=opening_angle_bins, histtype=\"step\", label=\"All Events\")\n",
    "plt.hist(passing_two_HE_shower_0_HE_track_df[\"opening_angle\"], weights=passing_two_HE_shower_0_HE_track_df[\"Weight\"], bins=opening_angle_bins, histtype=\"step\", label=\"Passing Events\")\n",
    "plt.xlabel(\"True Opening Angle (degrees)\")\n",
    "plt.ylabel(\"Events\")\n",
    "plt.title(f\"Events With Truth Requirements:\\nTwo >={shower_threshold} MeV Showers, Zero >={track_threshold} MeV Tracks\")\n",
    "plt.legend()\n",
    "plt.yscale(\"log\")\n",
    "plt.show()\n",
    "\n",
    "plt.figure(figsize=(10, 7))\n",
    "plt.hist(two_HE_shower_0_HE_track_df[\"opening_angle\"], weights=two_HE_shower_0_HE_track_df[\"Weight\"], bins=opening_angle_bins, histtype=\"step\", density=True, label=\"All Events\")\n",
    "plt.hist(passing_two_HE_shower_0_HE_track_df[\"opening_angle\"], weights=passing_two_HE_shower_0_HE_track_df[\"Weight\"], bins=opening_angle_bins, histtype=\"step\", density=True, label=\"Passing Events\")\n",
    "plt.xlabel(\"True Opening Angle (degrees)\")\n",
    "plt.ylabel(\"Events (Normalized)\")\n",
    "plt.title(f\"Events With Truth Requirements:\\nTwo >={shower_threshold} MeV Showers, Zero >={track_threshold} MeV Tracks\")\n",
    "plt.legend()\n",
    "plt.show()\n",
    "\n",
    "plt.figure(figsize=(10, 7))\n",
    "plt.errorbar(opening_angle_bin_centers, effs, yerr=eff_errs, fmt=\"o\", capsize=5)\n",
    "plt.xlabel(\"True Opening Angle (degrees)\")\n",
    "plt.ylabel(\"MiniBooNE nue CCQE Selection Efficiency\")\n",
    "plt.title(f\"Predicted Events With Truth Requirements:\\nTwo >={shower_threshold} MeV Showers, Zero >={track_threshold} MeV Tracks\")\n",
    "plt.show()\n",
    "\n"
   ]
  },
  {
   "cell_type": "code",
   "execution_count": null,
   "metadata": {},
   "outputs": [],
   "source": []
  },
  {
   "cell_type": "code",
   "execution_count": null,
   "metadata": {},
   "outputs": [],
   "source": []
  },
  {
   "cell_type": "code",
   "execution_count": null,
   "metadata": {},
   "outputs": [],
   "source": []
  }
 ],
 "metadata": {
  "kernelspec": {
   "display_name": "base_2",
   "language": "python",
   "name": "python3"
  },
  "language_info": {
   "codemirror_mode": {
    "name": "ipython",
    "version": 3
   },
   "file_extension": ".py",
   "mimetype": "text/x-python",
   "name": "python",
   "nbconvert_exporter": "python",
   "pygments_lexer": "ipython3",
   "version": "3.10.10"
  }
 },
 "nbformat": 4,
 "nbformat_minor": 2
}
