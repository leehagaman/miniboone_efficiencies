{
 "cells": [
  {
   "cell_type": "code",
   "execution_count": null,
   "metadata": {},
   "outputs": [],
   "source": [
    "import numpy as np\n",
    "import matplotlib.pyplot as plt\n",
    "import uproot\n",
    "\n",
    "from tqdm.notebook import tqdm\n"
   ]
  },
  {
   "cell_type": "markdown",
   "metadata": {},
   "source": [
    "# Loading MiniBooNE MC File"
   ]
  },
  {
   "cell_type": "code",
   "execution_count": null,
   "metadata": {},
   "outputs": [],
   "source": [
    "# downloaded from /pnfs/uboone/persistent/users/markross/MiniBooNEDatasets2023/\n",
    "f = uproot.open(\"data_files/output_osc_mc_detail_1.root\")\n",
    "\n",
    "print(f[\"MiniBooNE_CCQE\"].keys())\n"
   ]
  },
  {
   "cell_type": "code",
   "execution_count": null,
   "metadata": {},
   "outputs": [],
   "source": [
    "all_mc_pot = 41.10e20 # POT, from SomeMiniBooNEDetails_on_files_v2.pdf\n",
    "data_pot = 18.75e20 # POT\n",
    "\n",
    "# approximate! looking at file sizes rather than numbers of events\n",
    "curr_file_size = 4398175\n",
    "all_file_sizes = [\n",
    "    1836902,\n",
    "    4398175,\n",
    "    4388901,\n",
    "    4402467,\n",
    "    4397328,\n",
    "    4399516,\n",
    "    4394821,\n",
    "    4397983,\n",
    "    4401235,\n",
    "    4394093,\n",
    "]\n",
    "\n",
    "curr_mc_pot = curr_file_size / np.sum(all_file_sizes) * all_mc_pot\n",
    "\n",
    "pot_weight = data_pot / curr_mc_pot\n"
   ]
  },
  {
   "cell_type": "code",
   "execution_count": null,
   "metadata": {},
   "outputs": [],
   "source": [
    "# from data_files/CombinedFunctions_from_Fortran/CombinedTypes.h\n",
    "particle_types = {\n",
    "    1: \"gamma\",\n",
    "    2: \"positron\",\n",
    "    3: \"electron\",\n",
    "    4: \"neutrino\",\n",
    "    5: \"mu+\",\n",
    "    6: \"mu-\",\n",
    "    7: \"pi0\",\n",
    "    8: \"pi+\",\n",
    "    9: \"pi-\",\n",
    "    10: \"K0L\",\n",
    "    11: \"K+\",\n",
    "    12: \"K-\",\n",
    "    13: \"neutron\",\n",
    "    14: \"proton\",\n",
    "    15: \"anti-proton\",\n",
    "    16: \"K0S\",\n",
    "    17: \"eta\",\n",
    "    18: \"lambda\",\n",
    "    19: \"sigma+\",\n",
    "    20: \"sigma0\",\n",
    "    21: \"sigma-\",\n",
    "    22: \"xi0\",\n",
    "    23: \"xi-\",\n",
    "    24: \"omega-\",\n",
    "    25: \"anti-neutron\",\n",
    "    26: \"anti-lambda\",\n",
    "    27: \"anti-sigma-\",\n",
    "    28: \"anti-sigma0\",\n",
    "    29: \"anti-sigma+\",\n",
    "    30: \"anti-xi0\",\n",
    "    31: \"anti-xi+\",\n",
    "    32: \"anti-omega+\",\n",
    "    45: \"deuteron\",\n",
    "    46: \"triton\",\n",
    "    47: \"alpha\",\n",
    "    48: \"geantino\",\n",
    "    49: \"He3\",\n",
    "    50: \"Cerenkov\"\n",
    "}\n"
   ]
  },
  {
   "cell_type": "code",
   "execution_count": null,
   "metadata": {},
   "outputs": [],
   "source": [
    "df = f[\"MiniBooNE_CCQE\"].arrays([\"EventNumber\", \"Weight\", \"PassOsc\", \"RecoEnuQE\", \"Energy\", \"CosTheta\", \"TrueEnergy\", \"NuType\", \"NFSP\", \"FSPType\", \"MomX\", \"MomY\", \"MomZ\", \"MomT\"], library=\"pd\")\n",
    "\n",
    "# from data_files/SomeMiniBooNEDetails_on_files_v2.pdf\n",
    "nu_types = {\n",
    "    1: \"numu\",\n",
    "    2: \"numubar\",\n",
    "    3: \"nue\",\n",
    "    4: \"nuebar\"\n",
    "}\n",
    "df[\"nu_type\"] = df[\"NuType\"].apply(lambda x: nu_types[x])\n",
    "df.drop(columns=[\"NuType\"], inplace=True)\n",
    "\n",
    "df"
   ]
  },
  {
   "cell_type": "code",
   "execution_count": null,
   "metadata": {},
   "outputs": [],
   "source": [
    "# from https://rtayloe.pages.iu.edu/MB/data-releases/nue2020/numode.html\n",
    "nue_ccqe_bin_edges = [200.0, 300.0, 375.0, 475.0, 550.0, 675.0, 800.0, 950.0, 1100.0, 1250.0, 1500.0, 3000.0]\n",
    "nue_ccqe_bin_centers = [(nue_ccqe_bin_edges[i] + nue_ccqe_bin_edges[i+1]) / 2. for i in range(len(nue_ccqe_bin_edges) - 1)]\n",
    "nue_ccqe_bin_centers[-1] = 1600\n",
    "nue_ccqe_bin_widths = [nue_ccqe_bin_edges[i+1] - nue_ccqe_bin_edges[i] for i in range(len(nue_ccqe_bin_edges) - 1)]\n",
    "\n",
    "nue_ccqe_sel_df = df.query(\"PassOsc == True\")\n",
    "\n",
    "all_counts = np.histogram(nue_ccqe_sel_df[\"RecoEnuQE\"] * 1000., weights=nue_ccqe_sel_df[\"Weight\"] * pot_weight, bins=nue_ccqe_bin_edges)[0]\n",
    "counts_per_mev = all_counts / nue_ccqe_bin_widths\n",
    "\n",
    "plt.rcParams.update({'font.size': 16})\n",
    "\n",
    "plt.figure(figsize=(10, 6))\n",
    "plt.hist(nue_ccqe_bin_centers, bins=nue_ccqe_bin_edges, weights=counts_per_mev)\n",
    "plt.xlabel(r\"$E_{\\nu}^{\\mathrm{QE}}$ (MeV)\")\n",
    "plt.ylabel(r\"Count per MeV\")\n",
    "plt.xlim(200, 1700)\n",
    "plt.title(\"MiniBooNE Nue CCQE Selection\\n100k MC Events, approx. weighted to 18.75e20 POT\")\n",
    "plt.show()\n",
    "\n"
   ]
  },
  {
   "cell_type": "code",
   "execution_count": null,
   "metadata": {},
   "outputs": [],
   "source": []
  },
  {
   "cell_type": "code",
   "execution_count": null,
   "metadata": {},
   "outputs": [],
   "source": []
  }
 ],
 "metadata": {
  "kernelspec": {
   "display_name": "base_2",
   "language": "python",
   "name": "python3"
  },
  "language_info": {
   "codemirror_mode": {
    "name": "ipython",
    "version": 3
   },
   "file_extension": ".py",
   "mimetype": "text/x-python",
   "name": "python",
   "nbconvert_exporter": "python",
   "pygments_lexer": "ipython3",
   "version": "3.10.10"
  }
 },
 "nbformat": 4,
 "nbformat_minor": 2
}
