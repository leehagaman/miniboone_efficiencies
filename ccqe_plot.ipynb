{
 "cells": [
  {
   "cell_type": "code",
   "execution_count": null,
   "metadata": {},
   "outputs": [],
   "source": [
    "import numpy as np\n",
    "import matplotlib.pyplot as plt\n",
    "import uproot"
   ]
  },
  {
   "cell_type": "code",
   "execution_count": null,
   "metadata": {},
   "outputs": [],
   "source": [
    "# downloaded from /pnfs/uboone/persistent/users/markross/MiniBooNEDatasets2023/\n",
    "f = uproot.open(\"data_files/output_osc_mc_detail_1.root\")\n",
    "\n",
    "print(f[\"MiniBooNE_CCQE\"].keys())\n"
   ]
  },
  {
   "cell_type": "code",
   "execution_count": null,
   "metadata": {},
   "outputs": [],
   "source": [
    "# from data_files/CombinedFunctions_from_Fortran/CombinedTypes.h\n",
    "particle_types = {\n",
    "    1: \"gamma\",\n",
    "    2: \"positron\",\n",
    "    3: \"electron\",\n",
    "    4: \"neutrino\",\n",
    "    5: \"mu+\",\n",
    "    6: \"mu-\",\n",
    "    7: \"pi0\",\n",
    "    8: \"pi+\",\n",
    "    9: \"pi-\",\n",
    "    10: \"K0L\",\n",
    "    11: \"K+\",\n",
    "    12: \"K-\",\n",
    "    13: \"neutron\",\n",
    "    14: \"proton\",\n",
    "    15: \"anti-proton\",\n",
    "    16: \"K0S\",\n",
    "    17: \"eta\",\n",
    "    18: \"lambda\",\n",
    "    19: \"sigma+\",\n",
    "    20: \"sigma0\",\n",
    "    21: \"sigma-\",\n",
    "    22: \"xi0\",\n",
    "    23: \"xi-\",\n",
    "    24: \"omega-\",\n",
    "    25: \"anti-neutron\",\n",
    "    26: \"anti-lambda\",\n",
    "    27: \"anti-sigma-\",\n",
    "    28: \"anti-sigma0\",\n",
    "    29: \"anti-sigma+\",\n",
    "    30: \"anti-xi0\",\n",
    "    31: \"anti-xi+\",\n",
    "    32: \"anti-omega+\",\n",
    "    45: \"deuteron\",\n",
    "    46: \"triton\",\n",
    "    47: \"alpha\",\n",
    "    48: \"geantino\",\n",
    "    49: \"He3\",\n",
    "    50: \"Cerenkov\"\n",
    "}\n"
   ]
  },
  {
   "cell_type": "code",
   "execution_count": null,
   "metadata": {},
   "outputs": [],
   "source": [
    "df = f[\"MiniBooNE_CCQE\"].arrays([\"EventNumber\", \"Weight\", \"PassOsc\", \"RecoEnuQE\", \"Energy\", \"CosTheta\", \"TrueEnergy\", \"NuType\", \"NFSP\", \"FSPType\", \"MomX\", \"MomY\", \"MomZ\", \"MomT\"], library=\"pd\")\n",
    "\n",
    "# from data_files/SomeMiniBooNEDetails_on_files_v2.pdf\n",
    "nu_types = {\n",
    "    1: \"numu\",\n",
    "    2: \"numubar\",\n",
    "    3: \"nue\",\n",
    "    4: \"nuebar\"\n",
    "}\n",
    "df[\"nu_type\"] = df[\"NuType\"].apply(lambda x: nu_types[x])\n",
    "df.drop(columns=[\"NuType\"], inplace=True)\n",
    "\n",
    "df"
   ]
  },
  {
   "cell_type": "code",
   "execution_count": null,
   "metadata": {},
   "outputs": [],
   "source": []
  }
 ],
 "metadata": {
  "kernelspec": {
   "display_name": "base_2",
   "language": "python",
   "name": "python3"
  },
  "language_info": {
   "codemirror_mode": {
    "name": "ipython",
    "version": 3
   },
   "file_extension": ".py",
   "mimetype": "text/x-python",
   "name": "python",
   "nbconvert_exporter": "python",
   "pygments_lexer": "ipython3",
   "version": "3.10.10"
  }
 },
 "nbformat": 4,
 "nbformat_minor": 2
}
